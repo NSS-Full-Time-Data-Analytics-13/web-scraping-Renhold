{
 "cells": [
  {
   "cell_type": "code",
   "execution_count": 476,
   "id": "a3cb8b80-01b9-4584-b391-e3dd152b4caa",
   "metadata": {},
   "outputs": [],
   "source": [
    "import requests\n",
    "import pandas as pd"
   ]
  },
  {
   "cell_type": "code",
   "execution_count": 477,
   "id": "66a62eca-b171-466f-a178-4825c17d19f3",
   "metadata": {},
   "outputs": [],
   "source": [
    "URL = 'https://realpython.github.io/fake-jobs/'\n",
    "\n",
    "response = requests.get(URL)"
   ]
  },
  {
   "cell_type": "code",
   "execution_count": 478,
   "id": "3ade0ddd-be26-43e0-98c7-f0f049be7a52",
   "metadata": {},
   "outputs": [
    {
     "data": {
      "text/plain": [
       "requests.models.Response"
      ]
     },
     "execution_count": 478,
     "metadata": {},
     "output_type": "execute_result"
    }
   ],
   "source": [
    "type(response)"
   ]
  },
  {
   "cell_type": "code",
   "execution_count": 479,
   "id": "e807da1f-afbc-4738-b667-b924b5a5fe31",
   "metadata": {},
   "outputs": [
    {
     "data": {
      "text/plain": [
       "200"
      ]
     },
     "execution_count": 479,
     "metadata": {},
     "output_type": "execute_result"
    }
   ],
   "source": [
    "response.status_code"
   ]
  },
  {
   "cell_type": "code",
   "execution_count": 480,
   "id": "46873da9-42f3-4229-b5af-a25d7f846245",
   "metadata": {},
   "outputs": [],
   "source": [
    "from bs4 import BeautifulSoup as BS"
   ]
  },
  {
   "cell_type": "code",
   "execution_count": 481,
   "id": "0942b9ad-0bec-4fdc-97d0-04fc1e5c6403",
   "metadata": {},
   "outputs": [],
   "source": [
    "soup = BS(response.text)"
   ]
  },
  {
   "cell_type": "code",
   "execution_count": 482,
   "id": "bc2fb2a9-443d-4751-8fb4-d06282cad668",
   "metadata": {},
   "outputs": [
    {
     "data": {
      "text/plain": [
       "<h2 class=\"title is-5\">Senior Python Developer</h2>"
      ]
     },
     "execution_count": 482,
     "metadata": {},
     "output_type": "execute_result"
    }
   ],
   "source": [
    "soup.find('h2')"
   ]
  },
  {
   "cell_type": "code",
   "execution_count": 483,
   "id": "89544d6d-dacc-448d-92bb-b6143b9ece2e",
   "metadata": {},
   "outputs": [
    {
     "data": {
      "text/plain": [
       "bs4.element.Tag"
      ]
     },
     "execution_count": 483,
     "metadata": {},
     "output_type": "execute_result"
    }
   ],
   "source": [
    "type(soup.find('h2'))"
   ]
  },
  {
   "cell_type": "code",
   "execution_count": 484,
   "id": "94b82623-1291-46e4-9ef2-28073589a880",
   "metadata": {},
   "outputs": [
    {
     "data": {
      "text/plain": [
       "'Senior Python Developer'"
      ]
     },
     "execution_count": 484,
     "metadata": {},
     "output_type": "execute_result"
    }
   ],
   "source": [
    "soup.find('h2').text"
   ]
  },
  {
   "cell_type": "code",
   "execution_count": 485,
   "id": "c37b0e95-1a50-4f7c-ad8f-fa367d379951",
   "metadata": {},
   "outputs": [],
   "source": [
    "jobs = soup.find_all('h2')"
   ]
  },
  {
   "cell_type": "code",
   "execution_count": 486,
   "id": "2e2c6560-9228-463e-a3b7-048fed06a55c",
   "metadata": {},
   "outputs": [],
   "source": [
    "job_list = [job.text for job in jobs]"
   ]
  },
  {
   "cell_type": "code",
   "execution_count": 487,
   "id": "8f340fc2-ef93-4c83-b283-dba2c9f6e865",
   "metadata": {},
   "outputs": [],
   "source": [
    "companies = soup.find_all('h3')"
   ]
  },
  {
   "cell_type": "code",
   "execution_count": 488,
   "id": "b28a4e85-6868-467e-94bb-7fc2b9667389",
   "metadata": {},
   "outputs": [],
   "source": [
    "company_list = [company.text for company in companies]"
   ]
  },
  {
   "cell_type": "code",
   "execution_count": 489,
   "id": "e2d67723-59ab-4552-96cb-59f7577f1d8c",
   "metadata": {},
   "outputs": [],
   "source": [
    "locations = soup.find_all('p', attrs = {'class' : 'location'})"
   ]
  },
  {
   "cell_type": "code",
   "execution_count": 490,
   "id": "f2f16d32-349d-4bf0-9691-3afb507377c0",
   "metadata": {},
   "outputs": [],
   "source": [
    "location_list = [location.text.strip() for location in locations]"
   ]
  },
  {
   "cell_type": "code",
   "execution_count": 491,
   "id": "cf3f9c25-7205-477d-a050-79b0070f76d3",
   "metadata": {},
   "outputs": [],
   "source": [
    "times = soup.find_all('time')"
   ]
  },
  {
   "cell_type": "code",
   "execution_count": 492,
   "id": "fa2c4925-e7cb-4837-8efc-75dd88860484",
   "metadata": {},
   "outputs": [],
   "source": [
    "time_list = [time.text for time in times]"
   ]
  },
  {
   "cell_type": "code",
   "execution_count": 493,
   "id": "e223d27e-c8d2-4bed-adc1-ec1bf275afd9",
   "metadata": {},
   "outputs": [],
   "source": [
    "fake_jobs = pd.DataFrame({'title' : job_list, 'company' : company_list, 'location' : location_list, 'date' : time_list})"
   ]
  },
  {
   "cell_type": "code",
   "execution_count": 494,
   "id": "fe0fff65-c3f3-4154-ad4f-82dcdc256d7a",
   "metadata": {},
   "outputs": [],
   "source": [
    "a_tags = soup.find_all('a')"
   ]
  },
  {
   "cell_type": "code",
   "execution_count": 495,
   "id": "998a5327-1321-494a-9724-8aac11fb448e",
   "metadata": {},
   "outputs": [],
   "source": [
    "links = [a_tag['href'] for a_tag in a_tags]"
   ]
  },
  {
   "cell_type": "code",
   "execution_count": 496,
   "id": "d51cec67-72d6-46ba-bdb9-38953c7bdd1a",
   "metadata": {},
   "outputs": [],
   "source": [
    "counter = 0\n",
    "link_list=[]\n",
    "\n",
    "for link in links:\n",
    "    counter+=1\n",
    "\n",
    "    if counter%2 ==0:\n",
    "        link_list.append(link)"
   ]
  },
  {
   "cell_type": "code",
   "execution_count": 497,
   "id": "cfc131f7-ffa5-4062-a153-cf7ff9269fea",
   "metadata": {},
   "outputs": [],
   "source": [
    "link_list2 = [link for ind, link in enumerate(links) if ind %2 != 0]"
   ]
  },
  {
   "cell_type": "code",
   "execution_count": 498,
   "id": "337e77cc-a12d-4659-8977-5a23392f5382",
   "metadata": {},
   "outputs": [],
   "source": [
    "fake_jobs['apply_1'] = link_list"
   ]
  },
  {
   "cell_type": "code",
   "execution_count": 499,
   "id": "73f9a49c-90eb-444a-a056-6cc35e0daae8",
   "metadata": {},
   "outputs": [],
   "source": [
    "link_starter = 'https://realpython.github.io/fake-jobs/jobs/'\n",
    "link_ender = '.html'"
   ]
  },
  {
   "cell_type": "code",
   "execution_count": 500,
   "id": "3e3384a4-cbf5-48e1-a34c-01670f42f37c",
   "metadata": {
    "scrolled": true
   },
   "outputs": [
    {
     "name": "stdout",
     "output_type": "stream",
     "text": [
      "https://realpython.github.io/fake-jobs/jobs/senior-python-developer-0.html\n",
      "https://realpython.github.io/fake-jobs/jobs/energy-engineer-1.html\n",
      "https://realpython.github.io/fake-jobs/jobs/legal-executive-2.html\n",
      "https://realpython.github.io/fake-jobs/jobs/fitness-centre-manager-3.html\n",
      "https://realpython.github.io/fake-jobs/jobs/product-manager-4.html\n",
      "https://realpython.github.io/fake-jobs/jobs/medical-technical-officer-5.html\n",
      "https://realpython.github.io/fake-jobs/jobs/physiological-scientist-6.html\n",
      "https://realpython.github.io/fake-jobs/jobs/textile-designer-7.html\n",
      "https://realpython.github.io/fake-jobs/jobs/television-floor-manager-8.html\n",
      "https://realpython.github.io/fake-jobs/jobs/waste-management-officer-9.html\n",
      "https://realpython.github.io/fake-jobs/jobs/software-engineer-python-10.html\n",
      "https://realpython.github.io/fake-jobs/jobs/interpreter-11.html\n",
      "https://realpython.github.io/fake-jobs/jobs/architect-12.html\n",
      "https://realpython.github.io/fake-jobs/jobs/meteorologist-13.html\n",
      "https://realpython.github.io/fake-jobs/jobs/audiological-scientist-14.html\n",
      "https://realpython.github.io/fake-jobs/jobs/english-as-a-second-language-teacher-15.html\n",
      "https://realpython.github.io/fake-jobs/jobs/surgeon-16.html\n",
      "https://realpython.github.io/fake-jobs/jobs/equities-trader-17.html\n",
      "https://realpython.github.io/fake-jobs/jobs/newspaper-journalist-18.html\n",
      "https://realpython.github.io/fake-jobs/jobs/materials-engineer-19.html\n",
      "https://realpython.github.io/fake-jobs/jobs/python-programmer-entry-level-20.html\n",
      "https://realpython.github.io/fake-jobs/jobs/product-process-development-scientist-21.html\n",
      "https://realpython.github.io/fake-jobs/jobs/scientist-research-maths-22.html\n",
      "https://realpython.github.io/fake-jobs/jobs/ecologist-23.html\n",
      "https://realpython.github.io/fake-jobs/jobs/materials-engineer-24.html\n",
      "https://realpython.github.io/fake-jobs/jobs/historic-buildings-inspector-conservation-officer-25.html\n",
      "https://realpython.github.io/fake-jobs/jobs/data-scientist-26.html\n",
      "https://realpython.github.io/fake-jobs/jobs/psychiatrist-27.html\n",
      "https://realpython.github.io/fake-jobs/jobs/structural-engineer-28.html\n",
      "https://realpython.github.io/fake-jobs/jobs/immigration-officer-29.html\n",
      "https://realpython.github.io/fake-jobs/jobs/python-programmer-entry-level-30.html\n",
      "https://realpython.github.io/fake-jobs/jobs/neurosurgeon-31.html\n",
      "https://realpython.github.io/fake-jobs/jobs/broadcast-engineer-32.html\n",
      "https://realpython.github.io/fake-jobs/jobs/make-33.html\n",
      "https://realpython.github.io/fake-jobs/jobs/nurse-adult-34.html\n",
      "https://realpython.github.io/fake-jobs/jobs/air-broker-35.html\n",
      "https://realpython.github.io/fake-jobs/jobs/editor-film-video-36.html\n",
      "https://realpython.github.io/fake-jobs/jobs/production-assistant-radio-37.html\n",
      "https://realpython.github.io/fake-jobs/jobs/engineer-communications-38.html\n",
      "https://realpython.github.io/fake-jobs/jobs/sales-executive-39.html\n",
      "https://realpython.github.io/fake-jobs/jobs/software-developer-python-40.html\n",
      "https://realpython.github.io/fake-jobs/jobs/futures-trader-41.html\n",
      "https://realpython.github.io/fake-jobs/jobs/tour-manager-42.html\n",
      "https://realpython.github.io/fake-jobs/jobs/cytogeneticist-43.html\n",
      "https://realpython.github.io/fake-jobs/jobs/designer-multimedia-44.html\n",
      "https://realpython.github.io/fake-jobs/jobs/trade-union-research-officer-45.html\n",
      "https://realpython.github.io/fake-jobs/jobs/chemist-analytical-46.html\n",
      "https://realpython.github.io/fake-jobs/jobs/programmer-multimedia-47.html\n",
      "https://realpython.github.io/fake-jobs/jobs/engineer-broadcasting-operations-48.html\n",
      "https://realpython.github.io/fake-jobs/jobs/teacher-primary-school-49.html\n",
      "https://realpython.github.io/fake-jobs/jobs/python-developer-50.html\n",
      "https://realpython.github.io/fake-jobs/jobs/manufacturing-systems-engineer-51.html\n",
      "https://realpython.github.io/fake-jobs/jobs/producer-television-film-video-52.html\n",
      "https://realpython.github.io/fake-jobs/jobs/scientist-forensic-53.html\n",
      "https://realpython.github.io/fake-jobs/jobs/bonds-trader-54.html\n",
      "https://realpython.github.io/fake-jobs/jobs/editorial-assistant-55.html\n",
      "https://realpython.github.io/fake-jobs/jobs/photographer-56.html\n",
      "https://realpython.github.io/fake-jobs/jobs/retail-banker-57.html\n",
      "https://realpython.github.io/fake-jobs/jobs/jewellery-designer-58.html\n",
      "https://realpython.github.io/fake-jobs/jobs/ophthalmologist-59.html\n",
      "https://realpython.github.io/fake-jobs/jobs/back-end-web-developer-python-django-60.html\n",
      "https://realpython.github.io/fake-jobs/jobs/licensed-conveyancer-61.html\n",
      "https://realpython.github.io/fake-jobs/jobs/futures-trader-62.html\n",
      "https://realpython.github.io/fake-jobs/jobs/counselling-psychologist-63.html\n",
      "https://realpython.github.io/fake-jobs/jobs/insurance-underwriter-64.html\n",
      "https://realpython.github.io/fake-jobs/jobs/engineer-automotive-65.html\n",
      "https://realpython.github.io/fake-jobs/jobs/producer-radio-66.html\n",
      "https://realpython.github.io/fake-jobs/jobs/dispensing-optician-67.html\n",
      "https://realpython.github.io/fake-jobs/jobs/designer-fashion-clothing-68.html\n",
      "https://realpython.github.io/fake-jobs/jobs/chartered-loss-adjuster-69.html\n",
      "https://realpython.github.io/fake-jobs/jobs/back-end-web-developer-python-django-70.html\n",
      "https://realpython.github.io/fake-jobs/jobs/forest-woodland-manager-71.html\n",
      "https://realpython.github.io/fake-jobs/jobs/clinical-cytogeneticist-72.html\n",
      "https://realpython.github.io/fake-jobs/jobs/print-production-planner-73.html\n",
      "https://realpython.github.io/fake-jobs/jobs/systems-developer-74.html\n",
      "https://realpython.github.io/fake-jobs/jobs/graphic-designer-75.html\n",
      "https://realpython.github.io/fake-jobs/jobs/writer-76.html\n",
      "https://realpython.github.io/fake-jobs/jobs/field-seismologist-77.html\n",
      "https://realpython.github.io/fake-jobs/jobs/chief-strategy-officer-78.html\n",
      "https://realpython.github.io/fake-jobs/jobs/air-cabin-crew-79.html\n",
      "https://realpython.github.io/fake-jobs/jobs/python-programmer-entry-level-80.html\n",
      "https://realpython.github.io/fake-jobs/jobs/warden-ranger-81.html\n",
      "https://realpython.github.io/fake-jobs/jobs/sports-therapist-82.html\n",
      "https://realpython.github.io/fake-jobs/jobs/arts-development-officer-83.html\n",
      "https://realpython.github.io/fake-jobs/jobs/printmaker-84.html\n",
      "https://realpython.github.io/fake-jobs/jobs/health-and-safety-adviser-85.html\n",
      "https://realpython.github.io/fake-jobs/jobs/manufacturing-systems-engineer-86.html\n",
      "https://realpython.github.io/fake-jobs/jobs/programmer-applications-87.html\n",
      "https://realpython.github.io/fake-jobs/jobs/medical-physicist-88.html\n",
      "https://realpython.github.io/fake-jobs/jobs/media-planner-89.html\n",
      "https://realpython.github.io/fake-jobs/jobs/software-developer-python-90.html\n",
      "https://realpython.github.io/fake-jobs/jobs/surveyor-land-geomatics-91.html\n",
      "https://realpython.github.io/fake-jobs/jobs/legal-executive-92.html\n",
      "https://realpython.github.io/fake-jobs/jobs/librarian-academic-93.html\n",
      "https://realpython.github.io/fake-jobs/jobs/barrister-94.html\n",
      "https://realpython.github.io/fake-jobs/jobs/museum-gallery-exhibitions-officer-95.html\n",
      "https://realpython.github.io/fake-jobs/jobs/radiographer-diagnostic-96.html\n",
      "https://realpython.github.io/fake-jobs/jobs/database-administrator-97.html\n",
      "https://realpython.github.io/fake-jobs/jobs/furniture-designer-98.html\n",
      "https://realpython.github.io/fake-jobs/jobs/ship-broker-99.html\n"
     ]
    }
   ],
   "source": [
    "counter = 0\n",
    "\n",
    "for job in job_list:\n",
    "    job = job.replace(' ','-')\n",
    "    job = job.replace('(', '')\n",
    "    job = job.replace(')','')\n",
    "    job = job.lower()\n",
    "    job = job.replace(',', '')\n",
    "    job = job.replace('/', '-')\n",
    "    print(link_starter + job + '-' + str(counter) + link_ender)\n",
    "    counter+=1"
   ]
  },
  {
   "cell_type": "code",
   "execution_count": 501,
   "id": "1fafaade-1f2e-4a1e-9fb5-8065c5c7ebdb",
   "metadata": {
    "scrolled": true
   },
   "outputs": [],
   "source": [
    "link_list_3 = []\n",
    "\n",
    "for ind, job in enumerate(job_list):\n",
    "    job = job.replace(' ','-')\n",
    "    job = job.replace('(', '')\n",
    "    job = job.replace(')','')\n",
    "    job = job.lower()\n",
    "    job = job.replace(',', '')\n",
    "    job = job.replace('/', '-')\n",
    "    link_list_3.append(link_starter + job + '-' + str(ind) + link_ender)"
   ]
  },
  {
   "cell_type": "code",
   "execution_count": 502,
   "id": "b2a78d38-357c-4556-8969-4a63ac4cbf30",
   "metadata": {},
   "outputs": [],
   "source": [
    "fake_jobs['apply_2'] = link_list_3"
   ]
  },
  {
   "cell_type": "code",
   "execution_count": 503,
   "id": "bb945d14-1814-40cd-a6a2-9d7aba32b089",
   "metadata": {},
   "outputs": [],
   "source": [
    "for ind, row in fake_jobs.iterrows():\n",
    "    if row.apply_1 != row.apply_2:\n",
    "        print(ind)"
   ]
  },
  {
   "cell_type": "code",
   "execution_count": 504,
   "id": "329fd5f3-6457-4cfc-b0d1-f76d20a3fa07",
   "metadata": {},
   "outputs": [
    {
     "data": {
      "text/plain": [
       "True"
      ]
     },
     "execution_count": 504,
     "metadata": {},
     "output_type": "execute_result"
    }
   ],
   "source": [
    "fake_jobs.apply_1.equals(fake_jobs.apply_2)"
   ]
  },
  {
   "cell_type": "code",
   "execution_count": 505,
   "id": "b41d6065-bff5-4ecf-a668-968421ef247b",
   "metadata": {},
   "outputs": [
    {
     "data": {
      "text/plain": [
       "True"
      ]
     },
     "execution_count": 505,
     "metadata": {},
     "output_type": "execute_result"
    }
   ],
   "source": [
    "link_list == link_list_3"
   ]
  },
  {
   "cell_type": "code",
   "execution_count": 506,
   "id": "638f367d-cc89-4c99-81fb-864cd6f4652e",
   "metadata": {},
   "outputs": [],
   "source": [
    "URL = 'https://realpython.github.io/fake-jobs/jobs/senior-python-developer-0.html'"
   ]
  },
  {
   "cell_type": "code",
   "execution_count": 507,
   "id": "306d3161-8336-4fd9-ab99-e938dd95f337",
   "metadata": {},
   "outputs": [
    {
     "data": {
      "text/plain": [
       "<Response [200]>"
      ]
     },
     "execution_count": 507,
     "metadata": {},
     "output_type": "execute_result"
    }
   ],
   "source": [
    "requests.get(URL)"
   ]
  },
  {
   "cell_type": "code",
   "execution_count": 508,
   "id": "9050a1c8-7db5-4dbf-8d91-7b08a9f8f41c",
   "metadata": {},
   "outputs": [],
   "source": [
    "soup = BS(response.text)"
   ]
  },
  {
   "cell_type": "code",
   "execution_count": 509,
   "id": "5659651d-737c-40d2-818f-c39fad22e851",
   "metadata": {},
   "outputs": [
    {
     "data": {
      "text/plain": [
       "'\\n        Stewartbury, AA\\n      '"
      ]
     },
     "execution_count": 509,
     "metadata": {},
     "output_type": "execute_result"
    }
   ],
   "source": [
    "soup.find_all('p')[1].text"
   ]
  },
  {
   "cell_type": "code",
   "execution_count": 510,
   "id": "f3becc4c-c8d0-4c4a-b4c6-4dc67a2585a9",
   "metadata": {},
   "outputs": [],
   "source": [
    "desc_list = []\n",
    "\n",
    "for ind, row in fake_jobs.iterrows():\n",
    "    new_URL = row.apply_1\n",
    "    response = requests.get(new_URL)\n",
    "    soup = BS(response.text)\n",
    "    desc_list.append(soup.find_all('p')[1].text)"
   ]
  },
  {
   "cell_type": "code",
   "execution_count": 511,
   "id": "62d05866-faaf-47cd-b1ab-7adc5a8651fa",
   "metadata": {},
   "outputs": [],
   "source": [
    "def pull_desc(my_url):\n",
    "    response = requests.get(my_url)\n",
    "    soup = BS(response.text)\n",
    "    return soup.findALL('p')[1].text"
   ]
  },
  {
   "cell_type": "code",
   "execution_count": 512,
   "id": "e0b1ac55-e696-48e5-9e0d-daa01ca29354",
   "metadata": {},
   "outputs": [
    {
     "ename": "TypeError",
     "evalue": "'NoneType' object is not callable",
     "output_type": "error",
     "traceback": [
      "\u001b[0;31m---------------------------------------------------------------------------\u001b[0m",
      "\u001b[0;31mTypeError\u001b[0m                                 Traceback (most recent call last)",
      "Cell \u001b[0;32mIn[512], line 1\u001b[0m\n\u001b[0;32m----> 1\u001b[0m fake_jobs[\u001b[38;5;124m'\u001b[39m\u001b[38;5;124mjob_description\u001b[39m\u001b[38;5;124m'\u001b[39m] \u001b[38;5;241m=\u001b[39m fake_jobs\u001b[38;5;241m.\u001b[39mapply_1\u001b[38;5;241m.\u001b[39mapply(pull_desc)\n",
      "File \u001b[0;32m/opt/anaconda3/lib/python3.11/site-packages/pandas/core/series.py:4764\u001b[0m, in \u001b[0;36mSeries.apply\u001b[0;34m(self, func, convert_dtype, args, by_row, **kwargs)\u001b[0m\n\u001b[1;32m   4629\u001b[0m \u001b[38;5;28;01mdef\u001b[39;00m \u001b[38;5;21mapply\u001b[39m(\n\u001b[1;32m   4630\u001b[0m     \u001b[38;5;28mself\u001b[39m,\n\u001b[1;32m   4631\u001b[0m     func: AggFuncType,\n\u001b[0;32m   (...)\u001b[0m\n\u001b[1;32m   4636\u001b[0m     \u001b[38;5;241m*\u001b[39m\u001b[38;5;241m*\u001b[39mkwargs,\n\u001b[1;32m   4637\u001b[0m ) \u001b[38;5;241m-\u001b[39m\u001b[38;5;241m>\u001b[39m DataFrame \u001b[38;5;241m|\u001b[39m Series:\n\u001b[1;32m   4638\u001b[0m \u001b[38;5;250m    \u001b[39m\u001b[38;5;124;03m\"\"\"\u001b[39;00m\n\u001b[1;32m   4639\u001b[0m \u001b[38;5;124;03m    Invoke function on values of Series.\u001b[39;00m\n\u001b[1;32m   4640\u001b[0m \n\u001b[0;32m   (...)\u001b[0m\n\u001b[1;32m   4755\u001b[0m \u001b[38;5;124;03m    dtype: float64\u001b[39;00m\n\u001b[1;32m   4756\u001b[0m \u001b[38;5;124;03m    \"\"\"\u001b[39;00m\n\u001b[1;32m   4757\u001b[0m     \u001b[38;5;28;01mreturn\u001b[39;00m SeriesApply(\n\u001b[1;32m   4758\u001b[0m         \u001b[38;5;28mself\u001b[39m,\n\u001b[1;32m   4759\u001b[0m         func,\n\u001b[1;32m   4760\u001b[0m         convert_dtype\u001b[38;5;241m=\u001b[39mconvert_dtype,\n\u001b[1;32m   4761\u001b[0m         by_row\u001b[38;5;241m=\u001b[39mby_row,\n\u001b[1;32m   4762\u001b[0m         args\u001b[38;5;241m=\u001b[39margs,\n\u001b[1;32m   4763\u001b[0m         kwargs\u001b[38;5;241m=\u001b[39mkwargs,\n\u001b[0;32m-> 4764\u001b[0m     )\u001b[38;5;241m.\u001b[39mapply()\n",
      "File \u001b[0;32m/opt/anaconda3/lib/python3.11/site-packages/pandas/core/apply.py:1209\u001b[0m, in \u001b[0;36mSeriesApply.apply\u001b[0;34m(self)\u001b[0m\n\u001b[1;32m   1206\u001b[0m     \u001b[38;5;28;01mreturn\u001b[39;00m \u001b[38;5;28mself\u001b[39m\u001b[38;5;241m.\u001b[39mapply_compat()\n\u001b[1;32m   1208\u001b[0m \u001b[38;5;66;03m# self.func is Callable\u001b[39;00m\n\u001b[0;32m-> 1209\u001b[0m \u001b[38;5;28;01mreturn\u001b[39;00m \u001b[38;5;28mself\u001b[39m\u001b[38;5;241m.\u001b[39mapply_standard()\n",
      "File \u001b[0;32m/opt/anaconda3/lib/python3.11/site-packages/pandas/core/apply.py:1289\u001b[0m, in \u001b[0;36mSeriesApply.apply_standard\u001b[0;34m(self)\u001b[0m\n\u001b[1;32m   1283\u001b[0m \u001b[38;5;66;03m# row-wise access\u001b[39;00m\n\u001b[1;32m   1284\u001b[0m \u001b[38;5;66;03m# apply doesn't have a `na_action` keyword and for backward compat reasons\u001b[39;00m\n\u001b[1;32m   1285\u001b[0m \u001b[38;5;66;03m# we need to give `na_action=\"ignore\"` for categorical data.\u001b[39;00m\n\u001b[1;32m   1286\u001b[0m \u001b[38;5;66;03m# TODO: remove the `na_action=\"ignore\"` when that default has been changed in\u001b[39;00m\n\u001b[1;32m   1287\u001b[0m \u001b[38;5;66;03m#  Categorical (GH51645).\u001b[39;00m\n\u001b[1;32m   1288\u001b[0m action \u001b[38;5;241m=\u001b[39m \u001b[38;5;124m\"\u001b[39m\u001b[38;5;124mignore\u001b[39m\u001b[38;5;124m\"\u001b[39m \u001b[38;5;28;01mif\u001b[39;00m \u001b[38;5;28misinstance\u001b[39m(obj\u001b[38;5;241m.\u001b[39mdtype, CategoricalDtype) \u001b[38;5;28;01melse\u001b[39;00m \u001b[38;5;28;01mNone\u001b[39;00m\n\u001b[0;32m-> 1289\u001b[0m mapped \u001b[38;5;241m=\u001b[39m obj\u001b[38;5;241m.\u001b[39m_map_values(\n\u001b[1;32m   1290\u001b[0m     mapper\u001b[38;5;241m=\u001b[39mcurried, na_action\u001b[38;5;241m=\u001b[39maction, convert\u001b[38;5;241m=\u001b[39m\u001b[38;5;28mself\u001b[39m\u001b[38;5;241m.\u001b[39mconvert_dtype\n\u001b[1;32m   1291\u001b[0m )\n\u001b[1;32m   1293\u001b[0m \u001b[38;5;28;01mif\u001b[39;00m \u001b[38;5;28mlen\u001b[39m(mapped) \u001b[38;5;129;01mand\u001b[39;00m \u001b[38;5;28misinstance\u001b[39m(mapped[\u001b[38;5;241m0\u001b[39m], ABCSeries):\n\u001b[1;32m   1294\u001b[0m     \u001b[38;5;66;03m# GH#43986 Need to do list(mapped) in order to get treated as nested\u001b[39;00m\n\u001b[1;32m   1295\u001b[0m     \u001b[38;5;66;03m#  See also GH#25959 regarding EA support\u001b[39;00m\n\u001b[1;32m   1296\u001b[0m     \u001b[38;5;28;01mreturn\u001b[39;00m obj\u001b[38;5;241m.\u001b[39m_constructor_expanddim(\u001b[38;5;28mlist\u001b[39m(mapped), index\u001b[38;5;241m=\u001b[39mobj\u001b[38;5;241m.\u001b[39mindex)\n",
      "File \u001b[0;32m/opt/anaconda3/lib/python3.11/site-packages/pandas/core/base.py:921\u001b[0m, in \u001b[0;36mIndexOpsMixin._map_values\u001b[0;34m(self, mapper, na_action, convert)\u001b[0m\n\u001b[1;32m    918\u001b[0m \u001b[38;5;28;01mif\u001b[39;00m \u001b[38;5;28misinstance\u001b[39m(arr, ExtensionArray):\n\u001b[1;32m    919\u001b[0m     \u001b[38;5;28;01mreturn\u001b[39;00m arr\u001b[38;5;241m.\u001b[39mmap(mapper, na_action\u001b[38;5;241m=\u001b[39mna_action)\n\u001b[0;32m--> 921\u001b[0m \u001b[38;5;28;01mreturn\u001b[39;00m algorithms\u001b[38;5;241m.\u001b[39mmap_array(arr, mapper, na_action\u001b[38;5;241m=\u001b[39mna_action, convert\u001b[38;5;241m=\u001b[39mconvert)\n",
      "File \u001b[0;32m/opt/anaconda3/lib/python3.11/site-packages/pandas/core/algorithms.py:1814\u001b[0m, in \u001b[0;36mmap_array\u001b[0;34m(arr, mapper, na_action, convert)\u001b[0m\n\u001b[1;32m   1812\u001b[0m values \u001b[38;5;241m=\u001b[39m arr\u001b[38;5;241m.\u001b[39mastype(\u001b[38;5;28mobject\u001b[39m, copy\u001b[38;5;241m=\u001b[39m\u001b[38;5;28;01mFalse\u001b[39;00m)\n\u001b[1;32m   1813\u001b[0m \u001b[38;5;28;01mif\u001b[39;00m na_action \u001b[38;5;129;01mis\u001b[39;00m \u001b[38;5;28;01mNone\u001b[39;00m:\n\u001b[0;32m-> 1814\u001b[0m     \u001b[38;5;28;01mreturn\u001b[39;00m lib\u001b[38;5;241m.\u001b[39mmap_infer(values, mapper, convert\u001b[38;5;241m=\u001b[39mconvert)\n\u001b[1;32m   1815\u001b[0m \u001b[38;5;28;01melse\u001b[39;00m:\n\u001b[1;32m   1816\u001b[0m     \u001b[38;5;28;01mreturn\u001b[39;00m lib\u001b[38;5;241m.\u001b[39mmap_infer_mask(\n\u001b[1;32m   1817\u001b[0m         values, mapper, mask\u001b[38;5;241m=\u001b[39misna(values)\u001b[38;5;241m.\u001b[39mview(np\u001b[38;5;241m.\u001b[39muint8), convert\u001b[38;5;241m=\u001b[39mconvert\n\u001b[1;32m   1818\u001b[0m     )\n",
      "File \u001b[0;32mlib.pyx:2926\u001b[0m, in \u001b[0;36mpandas._libs.lib.map_infer\u001b[0;34m()\u001b[0m\n",
      "Cell \u001b[0;32mIn[511], line 4\u001b[0m, in \u001b[0;36mpull_desc\u001b[0;34m(my_url)\u001b[0m\n\u001b[1;32m      2\u001b[0m response \u001b[38;5;241m=\u001b[39m requests\u001b[38;5;241m.\u001b[39mget(my_url)\n\u001b[1;32m      3\u001b[0m soup \u001b[38;5;241m=\u001b[39m BS(response\u001b[38;5;241m.\u001b[39mtext)\n\u001b[0;32m----> 4\u001b[0m \u001b[38;5;28;01mreturn\u001b[39;00m soup\u001b[38;5;241m.\u001b[39mfindALL(\u001b[38;5;124m'\u001b[39m\u001b[38;5;124mp\u001b[39m\u001b[38;5;124m'\u001b[39m)[\u001b[38;5;241m1\u001b[39m]\u001b[38;5;241m.\u001b[39mtext\n",
      "\u001b[0;31mTypeError\u001b[0m: 'NoneType' object is not callable"
     ]
    }
   ],
   "source": [
    "fake_jobs['job_description'] = fake_jobs.apply_1.apply(pull_desc)"
   ]
  }
 ],
 "metadata": {
  "kernelspec": {
   "display_name": "Python 3 (ipykernel)",
   "language": "python",
   "name": "python3"
  },
  "language_info": {
   "codemirror_mode": {
    "name": "ipython",
    "version": 3
   },
   "file_extension": ".py",
   "mimetype": "text/x-python",
   "name": "python",
   "nbconvert_exporter": "python",
   "pygments_lexer": "ipython3",
   "version": "3.11.7"
  }
 },
 "nbformat": 4,
 "nbformat_minor": 5
}
